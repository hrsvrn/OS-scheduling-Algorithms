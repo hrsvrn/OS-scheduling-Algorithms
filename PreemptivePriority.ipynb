{
 "cells": [
  {
   "cell_type": "code",
   "execution_count": 2,
   "metadata": {},
   "outputs": [],
   "source": [
    "class Process:\n",
    "    def __init__(self, pid, arrival_time, burst_time, priority):\n",
    "        self.pid = pid\n",
    "        self.arrival_time = arrival_time\n",
    "        self.burst_time = burst_time\n",
    "        self.remaining_time = burst_time\n",
    "        self.priority = priority\n",
    "        self.waiting_time = 0\n",
    "        self.turnaround_time = 0\n"
   ]
  },
  {
   "cell_type": "code",
   "execution_count": 3,
   "metadata": {},
   "outputs": [],
   "source": [
    "def preemptive_priority_scheduling(processes):\n",
    "    time = 0\n",
    "    completed_processes = 0\n",
    "    n = len(processes)\n",
    "    execution_order = []\n",
    "    processes.sort(key=lambda x: (x.arrival_time, x.priority))\n",
    "\n",
    "    while completed_processes < n:\n",
    "        available_processes = [p for p in processes if p.arrival_time <= time and p.remaining_time > 0]\n",
    "        if available_processes:\n",
    "            current_process = min(available_processes, key=lambda x: x.priority)\n",
    "            execution_order.append(current_process.pid)\n",
    "            time += 1\n",
    "            current_process.remaining_time -= 1\n",
    "\n",
    "            if current_process.remaining_time == 0:\n",
    "                current_process.turnaround_time = time - current_process.arrival_time\n",
    "                current_process.waiting_time = current_process.turnaround_time - current_process.burst_time\n",
    "                completed_processes += 1\n",
    "        else:\n",
    "            time += 1\n",
    "\n",
    "    return processes, execution_order\n"
   ]
  },
  {
   "cell_type": "code",
   "execution_count": 4,
   "metadata": {},
   "outputs": [],
   "source": [
    "def calculate_average_times(processes):\n",
    "    total_waiting_time = 0\n",
    "    total_turnaround_time = 0\n",
    "    n = len(processes)\n",
    "\n",
    "    for process in processes:\n",
    "        total_waiting_time += process.waiting_time\n",
    "        total_turnaround_time += process.turnaround_time\n",
    "\n",
    "    avg_waiting_time = total_waiting_time / n\n",
    "    avg_turnaround_time = total_turnaround_time / n\n",
    "\n",
    "    return avg_waiting_time, avg_turnaround_time\n"
   ]
  },
  {
   "cell_type": "code",
   "execution_count": 5,
   "metadata": {},
   "outputs": [
    {
     "name": "stdout",
     "output_type": "stream",
     "text": [
      "\n",
      "Process ID\tArrival Time\tBurst Time\tPriority\tWaiting Time\tTurnaround Time\n",
      "1\t\t1\t\t3\t\t2\t\t0\n",
      "2\t\t4\t\t4\t\t3\t\t0\n",
      "\n",
      "Average Waiting Time: 0.0\n",
      "Average Turnaround Time: 3.5\n",
      "\n",
      "Execution Order: [1, 1, 1, 2, 2, 2, 2]\n"
     ]
    }
   ],
   "source": [
    "def main():\n",
    "    processes = []\n",
    "\n",
    "    n = int(input(\"Enter the number of processes: \"))\n",
    "\n",
    "    for i in range(n):\n",
    "        pid = i + 1\n",
    "        arrival_time = int(input(f\"Enter arrival time for process {pid}: \"))\n",
    "        burst_time = int(input(f\"Enter burst time for process {pid}: \"))\n",
    "        priority = int(input(f\"Enter priority for process {pid} (lower value means higher priority): \"))\n",
    "        processes.append(Process(pid, arrival_time, burst_time, priority))\n",
    "\n",
    "    scheduled_processes, execution_order = preemptive_priority_scheduling(processes)\n",
    "    avg_waiting_time, avg_turnaround_time = calculate_average_times(scheduled_processes)\n",
    "\n",
    "    print(\"\\nProcess ID\\tArrival Time\\tBurst Time\\tPriority\\tWaiting Time\\tTurnaround Time\")\n",
    "    for process in scheduled_processes:\n",
    "        print(f\"{process.pid}\\t\\t{process.arrival_time}\\t\\t{process.burst_time}\\t\\t{process.priority}\\t\\t{process.waiting_time}\")\n",
    "\n",
    "    print(f\"\\nAverage Waiting Time: {avg_waiting_time}\")\n",
    "    print(f\"Average Turnaround Time: {avg_turnaround_time}\")\n",
    "\n",
    "    print(f\"\\nExecution Order: {execution_order}\")\n",
    "\n",
    "if __name__ == \"__main__\":\n",
    "    main()\n"
   ]
  }
 ],
 "metadata": {
  "kernelspec": {
   "display_name": "Python 3 (ipykernel)",
   "language": "python",
   "name": "python3"
  },
  "language_info": {
   "codemirror_mode": {
    "name": "ipython",
    "version": 3
   },
   "file_extension": ".py",
   "mimetype": "text/x-python",
   "name": "python",
   "nbconvert_exporter": "python",
   "pygments_lexer": "ipython3",
   "version": "3.12.4"
  }
 },
 "nbformat": 4,
 "nbformat_minor": 4
}
