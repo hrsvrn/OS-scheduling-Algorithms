{
 "cells": [
  {
   "cell_type": "markdown",
   "metadata": {},
   "source": [
    "Round Robin Scheduling Algorithm OS in Python               Harshvardhan Vatsa 22BDS0318"
   ]
  },
  {
   "cell_type": "markdown",
   "metadata": {},
   "source": [
    "Step 1 : Define the Process Class"
   ]
  },
  {
   "cell_type": "code",
   "execution_count": 5,
   "metadata": {},
   "outputs": [],
   "source": [
    "#Define the Process Class\n",
    "class Process:\n",
    "    def __init__(self,pid,arrival_time,burst_time):\n",
    "        self.pid=pid\n",
    "        self.arrival_time=arrival_time\n",
    "        self.burst_time=burst_time                                                 \n",
    "        self.remaining_time=burst_time                                                                                                                                                                                                                                                                                                                                          \n",
    "        self.waiting_time=0\n",
    "        self.turnaround_time=0\n"
   ]
  },
  {
   "cell_type": "markdown",
   "metadata": {},
   "source": [
    "Step 2: Create Robin Round Scheduler Function"
   ]
  },
  {
   "cell_type": "code",
   "execution_count": 6,
   "metadata": {},
   "outputs": [],
   "source": [
    "def robin_round_scheduling(processes,time_quantum):\n",
    "    n=len(processes)\n",
    "    time=0\n",
    "    queue=[]\n",
    "    execution_order=[]\n",
    "    context_switches=0\n",
    "\n",
    "    processes.sort(key=lambda x:x.arrival_time)\n",
    "    for process in processes:\n",
    "        if process.arrival_time<=time:\n",
    "            queue.append(process)\n",
    "    while queue:\n",
    "        process=queue.pop(0)\n",
    "\n",
    "        if process.remaining_time>time_quantum:\n",
    "            time+=time_quantum\n",
    "            process.remaining_time-=time_quantum\n",
    "            execution_order.append(process.pid)\n",
    "            context_switches+=1\n",
    "        else:\n",
    "            time+=process.remaining_time\n",
    "            process.waiting_time=time-process.arrival_time-process.burst_time\n",
    "            process.remaining_time=0\n",
    "            process.turnaround_time=time-process.arrival_time\n",
    "            execution_order.append(process.pid)\n",
    "        for proc in processes:\n",
    "            if proc.arrival_time<=time and proc.remaining_time>0 and proc not in queue:\n",
    "                queue.append(proc)\n",
    "        if process.remaining_time>0:\n",
    "            queue.append(process)\n",
    "        else:\n",
    "            context_switches+=1\n",
    "    return processes,execution_order,context_switches"
   ]
  },
  {
   "cell_type": "markdown",
   "metadata": {},
   "source": [
    "Step 3: Calculate Average Waiting and Turnaround Times"
   ]
  },
  {
   "cell_type": "code",
   "execution_count": 7,
   "metadata": {},
   "outputs": [],
   "source": [
    "def calculate_average_times(processes):\n",
    "    if not processes:\n",
    "        return 0, 0  # Return zero averages if the list is empty\n",
    "    \n",
    "    n = len(processes)\n",
    "    total_waiting_time = 0\n",
    "    total_turnaround_time = 0\n",
    "    \n",
    "    for process in processes:\n",
    "        total_waiting_time += process.waiting_time\n",
    "        total_turnaround_time += process.turnaround_time\n",
    "    \n",
    "    avg_waiting_time = total_waiting_time / n\n",
    "    avg_turnaround_time = total_turnaround_time / n\n",
    "    \n",
    "    return avg_waiting_time, avg_turnaround_time"
   ]
  },
  {
   "cell_type": "code",
   "execution_count": 8,
   "metadata": {},
   "outputs": [
    {
     "name": "stdin",
     "output_type": "stream",
     "text": [
      "Enter the number of processes:  6\n",
      "Enter the arrival time of process 1:  0\n",
      "Enter the burst time of process 1:  4\n",
      "Enter the arrival time of process 2:  1\n",
      "Enter the burst time of process 2:  5\n",
      "Enter the arrival time of process 3:  2\n",
      "Enter the burst time of process 3:  2\n",
      "Enter the arrival time of process 4:  3\n",
      "Enter the burst time of process 4:  1\n",
      "Enter the arrival time of process 5:  4\n",
      "Enter the burst time of process 5:  6\n",
      "Enter the arrival time of process 6:  6\n",
      "Enter the burst time of process 6:  3\n",
      "Enter the time quantum:  2\n"
     ]
    },
    {
     "name": "stdout",
     "output_type": "stream",
     "text": [
      "\n",
      "Process\tArrival Time\tBurst Time\tWaiting Time\tTurnaround Time\n",
      "1\t0\t\t4\t\t4\t\t8\n",
      "2\t1\t\t5\t\t14\t\t19\n",
      "3\t2\t\t2\t\t4\t\t6\n",
      "4\t3\t\t1\t\t5\t\t6\n",
      "5\t4\t\t6\t\t11\t\t17\n",
      "6\t6\t\t3\t\t12\t\t15\n",
      "\n",
      "Average Waiting Time: 8.333333333333334\n",
      "\n",
      "Average Turnaround Time: 11.833333333333334\n",
      "\n",
      "Execution Order: [1, 1, 2, 3, 1, 4, 5, 2, 6, 2, 5, 5, 2, 6, 6, 5]\n",
      "\n",
      "Context Switches: 16\n"
     ]
    }
   ],
   "source": [
    "def main():\n",
    "    processes=[]\n",
    "    n=int(input(\"Enter the number of processes: \"))\n",
    "    for i in range(n):\n",
    "        pid=i+1\n",
    "        arrival_time=int(input(\"Enter the arrival time of process {}: \".format(pid)))\n",
    "        burst_time=int(input(\"Enter the burst time of process {}: \".format(pid)))\n",
    "        processes.append(Process(pid,arrival_time,burst_time))\n",
    "    time_quantum=int(input(\"Enter the time quantum: \"))\n",
    "    scheduled_processes,execution_order,context_switches=robin_round_scheduling(processes,time_quantum)\n",
    "    avg_waiting_time,avg_turnaround_time=calculate_average_times(scheduled_processes)\n",
    "    print(\"\\nProcess\\tArrival Time\\tBurst Time\\tWaiting Time\\tTurnaround Time\")\n",
    "    for process in scheduled_processes:\n",
    "        print(f\"{process.pid}\\t{process.arrival_time}\\t\\t{process.burst_time}\\t\\t{process.waiting_time}\\t\\t{process.turnaround_time}\")\n",
    "    print(f\"\\nAverage Waiting Time: {avg_waiting_time}\")\n",
    "    print(f\"\\nAverage Turnaround Time: {avg_turnaround_time}\")\n",
    "    print(f\"\\nExecution Order: {execution_order}\")\n",
    "    print(f\"\\nContext Switches: {context_switches}\")\n",
    "if __name__==\"__main__\":\n",
    "    main()"
   ]
  },
  {
   "cell_type": "code",
   "execution_count": null,
   "metadata": {},
   "outputs": [],
   "source": []
  }
 ],
 "metadata": {
  "kernelspec": {
   "display_name": "Python 3 (ipykernel)",
   "language": "python",
   "name": "python3"
  },
  "language_info": {
   "codemirror_mode": {
    "name": "ipython",
    "version": 3
   },
   "file_extension": ".py",
   "mimetype": "text/x-python",
   "name": "python",
   "nbconvert_exporter": "python",
   "pygments_lexer": "ipython3",
   "version": "3.12.4"
  }
 },
 "nbformat": 4,
 "nbformat_minor": 4
}
