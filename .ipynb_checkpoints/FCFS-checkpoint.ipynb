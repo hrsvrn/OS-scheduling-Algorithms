{
 "cells": [
  {
   "cell_type": "code",
   "execution_count": 1,
   "metadata": {},
   "outputs": [
    {
     "name": "stdin",
     "output_type": "stream",
     "text": [
      "Enter the number of processes 4\n"
     ]
    }
   ],
   "source": [
    "number_of_processes=int(input(\"Enter the number of processes\"))\n",
    "processes=[]\n",
    "arrival_times=[]\n",
    "burst_times=[]"
   ]
  },
  {
   "cell_type": "code",
   "execution_count": 2,
   "metadata": {},
   "outputs": [
    {
     "name": "stdin",
     "output_type": "stream",
     "text": [
      "Enter arrival time for process 1: 12\n",
      "Enter burst time for process 1 3\n",
      "Enter arrival time for process 2: 23\n",
      "Enter burst time for process 2 34\n",
      "Enter arrival time for process 3: 34\n",
      "Enter burst time for process 3 234\n",
      "Enter arrival time for process 4: 24\n",
      "Enter burst time for process 4 234\n"
     ]
    }
   ],
   "source": [
    "for i in range(number_of_processes):\n",
    "    processes.append(i+1)\n",
    "    arrival_times.append(int(input(f\"Enter arrival time for process {i+1}:\")))\n",
    "    burst_times.append(int(input(f\"Enter burst time for process {i+1}\")))"
   ]
  },
  {
   "cell_type": "code",
   "execution_count": 4,
   "metadata": {},
   "outputs": [],
   "source": [
    "process_info=list(zip(processes,arrival_times,burst_times))\n",
    "process_info.sort(key=lambda x:x[1])\n",
    "processes,arrival_times,burst_times=zip(*process_info)"
   ]
  },
  {
   "cell_type": "code",
   "execution_count": 5,
   "metadata": {},
   "outputs": [],
   "source": [
    "completion_times=[0]*number_of_processes\n",
    "for i in range(number_of_processes):\n",
    "    if i==0:\n",
    "        completion_times[i]=arrival_times[i]+burst_times[i]\n",
    "    else:\n",
    "        completion_times[i]=max(completion_times[i-1],arrival_times[i])+burst_times[i]"
   ]
  },
  {
   "cell_type": "code",
   "execution_count": 6,
   "metadata": {},
   "outputs": [],
   "source": [
    "turnaround_times=[0]*number_of_processes\n",
    "for i in range(number_of_processes):\n",
    "    turnaround_times[i]=completion_times[i]-arrival_times[i]"
   ]
  },
  {
   "cell_type": "code",
   "execution_count": 7,
   "metadata": {},
   "outputs": [],
   "source": [
    "waiting_times=[0]*number_of_processes\n",
    "for i in range(number_of_processes):\n",
    "    waiting_times[i]=turnaround_times[i]-burst_times[i]"
   ]
  },
  {
   "cell_type": "code",
   "execution_count": 8,
   "metadata": {},
   "outputs": [
    {
     "name": "stdout",
     "output_type": "stream",
     "text": [
      "Process\tArrivalTime\tBurst Time\tCompletion Time\tTurnaround Time\tWaitingTime\n",
      "1\t12\t\t3\t\t15\t\t3\t\t0\n",
      "2\t23\t\t34\t\t57\t\t34\t\t0\n",
      "4\t24\t\t234\t\t291\t\t267\t\t33\n",
      "3\t34\t\t234\t\t525\t\t491\t\t257\n"
     ]
    }
   ],
   "source": [
    "print(\"Process\\tArrivalTime\\tBurst Time\\tCompletion Time\\tTurnaround Time\\tWaitingTime\")\n",
    "for i in range(number_of_processes):\n",
    "    print(f\"{processes[i]}\\t{arrival_times[i]}\\t\\t{burst_times[i]}\\t\\t{completion_times[i]}\\t\\t{turnaround_times[i]}\\t\\t{waiting_times[i]}\")"
   ]
  },
  {
   "cell_type": "code",
   "execution_count": null,
   "metadata": {},
   "outputs": [],
   "source": []
  }
 ],
 "metadata": {
  "kernelspec": {
   "display_name": "Python 3 (ipykernel)",
   "language": "python",
   "name": "python3"
  },
  "language_info": {
   "codemirror_mode": {
    "name": "ipython",
    "version": 3
   },
   "file_extension": ".py",
   "mimetype": "text/x-python",
   "name": "python",
   "nbconvert_exporter": "python",
   "pygments_lexer": "ipython3",
   "version": "3.12.4"
  }
 },
 "nbformat": 4,
 "nbformat_minor": 4
}
