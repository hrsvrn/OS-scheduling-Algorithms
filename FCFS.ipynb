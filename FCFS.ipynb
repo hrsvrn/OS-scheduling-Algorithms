{
 "cells": [
  {
   "cell_type": "code",
   "execution_count": null,
   "metadata": {},
   "outputs": [],
   "source": [
    "number_of_processes=int(input(\"Enter the number of processes\"))\n",
    "processes=[]\n",
    "arrival_times=[]\n",
    "burst_times=[]"
   ]
  },
  {
   "cell_type": "code",
   "execution_count": null,
   "metadata": {},
   "outputs": [],
   "source": [
    "for i in range(number_of_processes):\n",
    "    processes.append(i+1)\n",
    "    arrival_times.append(int(input(f\"Enter arrival time for process {i+1}:\")))\n",
    "    burst_times.append(int(input(f\"Enter burst time for process {i+1}\")))"
   ]
  },
  {
   "cell_type": "code",
   "execution_count": null,
   "metadata": {},
   "outputs": [],
   "source": []
  }
 ],
 "metadata": {
  "language_info": {
   "name": "python"
  }
 },
 "nbformat": 4,
 "nbformat_minor": 2
}
