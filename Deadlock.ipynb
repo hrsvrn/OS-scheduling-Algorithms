{
 "cells": [
  {
   "cell_type": "code",
   "execution_count": 28,
   "metadata": {},
   "outputs": [],
   "source": [
    "import numpy as np\n",
    "class BankersAlgorithm:\n",
    "    def __init__(self, max_demand, allocation, available):\n",
    "        self.max_demand = np.array(max_demand)\n",
    "        self.allocation = np.array(allocation)\n",
    "        self.available = np.array(available)\n",
    "        self.need = self.max_demand - self.allocation\n",
    "        self.n = self.max_demand.shape[0]  # Number of processes\n",
    "        self.m = self.max_demand.shape[1]  # Number of resource types\n",
    "    def is_safe(self):\n",
    "        work = self.available.copy()\n",
    "        finish = [False] * self.n\n",
    "        safe_sequence = []\n",
    "\n",
    "        while len(safe_sequence) < self.n:\n",
    "            found = False\n",
    "            for i in range(self.n):\n",
    "                if not finish[i] and all(self.need[i] <= work):\n",
    "                    work += self.allocation[i]\n",
    "                    finish[i] = True\n",
    "                    safe_sequence.append(i)\n",
    "                    found = True\n",
    "            if not found:\n",
    "                return False, []\n",
    "        return True, safe_sequence\n",
    "    def request_resources(self, process_id, request):\n",
    "        request = np.array(request)\n",
    "        if all(request <= self.need[process_id]):\n",
    "            if all(request <= self.available):\n",
    "                self.available -= request\n",
    "                self.allocation[process_id] += request\n",
    "                self.need[process_id] -= request\n",
    "\n",
    "                safe, _ = self.is_safe()\n",
    "                if safe:\n",
    "                    return True\n",
    "                else:\n",
    "                    self.available += request\n",
    "                    self.allocation[process_id] -= request\n",
    "                    self.need[process_id] += request\n",
    "                    return False\n",
    "            else:\n",
    "                return False\n",
    "        else:\n",
    "            raise ValueError(\"Request exceeds maximum claim\")\n"
   ]
  },
  {
   "cell_type": "code",
   "execution_count": 29,
   "metadata": {},
   "outputs": [],
   "source": [
    "# Example usage\n",
    "max_demand = [\n",
    "    [7, 5, 3],\n",
    "    [3, 2, 2],\n",
    "    [9, 0, 2],\n",
    "    [2, 2, 2],\n",
    "    [4, 3, 3]\n",
    "]\n",
    "\n",
    "allocation = [\n",
    "    [0, 1, 0],\n",
    "    [2, 0, 0],\n",
    "    [3, 0, 2],\n",
    "    [2, 1, 1],\n",
    "    [0, 0, 2]\n",
    "]\n",
    "available = [3, 3, 2]\n"
   ]
  },
  {
   "cell_type": "code",
   "execution_count": null,
   "metadata": {},
   "outputs": [],
   "source": []
  },
  {
   "cell_type": "code",
   "execution_count": 30,
   "metadata": {},
   "outputs": [],
   "source": [
    "# Example usage\n",
    "max_demand = [\n",
    "    [7, 5, 3],\n",
    "    [3, 2, 2],\n",
    "    [9, 0, 2],\n",
    "    [2, 2, 2],\n",
    "    [4, 3, 3]\n",
    "]\n",
    "\n",
    "allocation = [\n",
    "    [0, 1, 0],\n",
    "    [2, 0, 0],\n",
    "    [3, 0, 2],\n",
    "    [2, 1, 1],\n",
    "    [0, 0, 2]\n",
    "]\n",
    "available = [3, 3, 2]\n"
   ]
  },
  {
   "cell_type": "code",
   "execution_count": 31,
   "metadata": {},
   "outputs": [],
   "source": [
    "bankers = BankersAlgorithm(max_demand, allocation, available)\n"
   ]
  },
  {
   "cell_type": "code",
   "execution_count": 32,
   "metadata": {},
   "outputs": [
    {
     "name": "stdout",
     "output_type": "stream",
     "text": [
      "System is in a safe state: True\n",
      "Safe sequence: [1, 3, 4, 0, 2]\n"
     ]
    }
   ],
   "source": [
    "# Check if the system is in a safe state\n",
    "safe, sequence = bankers.is_safe()\n",
    "print(f\"System is in a safe state: {safe}\")\n",
    "if safe:\n",
    "    print(f\"Safe sequence: {sequence}\")"
   ]
  },
  {
   "cell_type": "code",
   "execution_count": 33,
   "metadata": {},
   "outputs": [
    {
     "name": "stdout",
     "output_type": "stream",
     "text": [
      "Request [1, 0, 2] by process 1 granted: True\n"
     ]
    }
   ],
   "source": [
    "# Process P1 requests (1, 0, 2)\n",
    "request = [1, 0, 2]\n",
    "process_id = 1\n",
    "granted = bankers.request_resources(process_id, request)\n",
    "print(f\"Request {request} by process {process_id} granted: {granted}\")\n"
   ]
  },
  {
   "cell_type": "code",
   "execution_count": 34,
   "metadata": {},
   "outputs": [
    {
     "name": "stdout",
     "output_type": "stream",
     "text": [
      "System is in a safe state: True\n",
      "Safe sequence: [1, 3, 4, 0, 2]\n"
     ]
    }
   ],
   "source": [
    "# Check if the system is in a safe state after the request\n",
    "safe, sequence = bankers.is_safe()\n",
    "print(f\"System is in a safe state: {safe}\")\n",
    "if safe:\n",
    "    print(f\"Safe sequence: {sequence}\")"
   ]
  }
 ],
 "metadata": {
  "kernelspec": {
   "display_name": "OS",
   "language": "python",
   "name": "python3"
  },
  "language_info": {
   "codemirror_mode": {
    "name": "ipython",
    "version": 3
   },
   "file_extension": ".py",
   "mimetype": "text/x-python",
   "name": "python",
   "nbconvert_exporter": "python",
   "pygments_lexer": "ipython3",
   "version": "3.12.4"
  }
 },
 "nbformat": 4,
 "nbformat_minor": 2
}
